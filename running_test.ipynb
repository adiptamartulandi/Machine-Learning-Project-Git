{
 "cells": [
  {
   "cell_type": "code",
   "execution_count": 1,
   "metadata": {},
   "outputs": [
    {
     "name": "stdout",
     "output_type": "stream",
     "text": [
      "[INFO] Proses Import Library ...\n",
      "[INFO] Proses Import Data ...\n",
      "[INFO] Jumlah Data yang Akan di Proses 124494 Baris dan 21 Kolom ...\n",
      "[INFO] Jumlah Label Positif 124388 dan Label Negatif 106 ...\n",
      "[INFO] Proses Modeling ...\n",
      "[INFO] Baseline Modeling Logistic Regression ...\n",
      "[INFO] Test roc_auc_score is 0.53719\n",
      "[INFO] Baseline Modeling KNN ...\n",
      "[INFO] Test roc_auc_score is 0.51635\n",
      "[INFO] Baseline Modeling LGBM ...\n",
      "[INFO] Test roc_auc_score is 0.74456\n",
      "[INFO] Proses Modeling Selesai ...\n"
     ]
    }
   ],
   "source": [
    "%run modeling.py"
   ]
  },
  {
   "cell_type": "code",
   "execution_count": 18,
   "metadata": {},
   "outputs": [
    {
     "name": "stdout",
     "output_type": "stream",
     "text": [
      "[INFO] Proses Import Library ...\n",
      "[INFO] Proses Import Data Prediction ...\n",
      "[INFO] Jumlah Data yang Akan di Proses 124494 Baris dan 21 Kolom ...\n",
      "[INFO] Proses Prediction ...\n",
      "[INFO] Jumlah Prediksi Label Positif 124454 dan Label Negatif 40 ...\n"
     ]
    }
   ],
   "source": [
    "%run prediction.py"
   ]
  },
  {
   "cell_type": "code",
   "execution_count": null,
   "metadata": {},
   "outputs": [],
   "source": []
  }
 ],
 "metadata": {
  "kernelspec": {
   "display_name": "Python 3",
   "language": "python",
   "name": "python3"
  },
  "language_info": {
   "codemirror_mode": {
    "name": "ipython",
    "version": 3
   },
   "file_extension": ".py",
   "mimetype": "text/x-python",
   "name": "python",
   "nbconvert_exporter": "python",
   "pygments_lexer": "ipython3",
   "version": "3.6.10"
  }
 },
 "nbformat": 4,
 "nbformat_minor": 4
}
