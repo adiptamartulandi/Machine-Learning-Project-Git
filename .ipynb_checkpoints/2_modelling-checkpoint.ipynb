{
 "cells": [
  {
   "cell_type": "markdown",
   "metadata": {},
   "source": [
    "## 1. Import Library"
   ]
  },
  {
   "cell_type": "code",
   "execution_count": 1,
   "metadata": {
    "ExecuteTime": {
     "end_time": "2021-07-27T14:45:31.441705Z",
     "start_time": "2021-07-27T14:45:31.435719Z"
    }
   },
   "outputs": [],
   "source": [
    "import pandas as pd\n",
    "import numpy as np\n",
    "import matplotlib.pyplot as plt\n",
    "import seaborn as sns\n",
    "import joblib\n",
    "import warnings\n",
    "from imblearn.over_sampling import SMOTE\n",
    "import function_library as lib\n",
    "from function_library import display_importances\n",
    "\n",
    "from xgboost import XGBClassifier\n",
    "import lightgbm as lgb\n",
    "from lightgbm import LGBMRegressor, LGBMClassifier\n",
    "\n",
    "from sklearn.linear_model import LogisticRegression\n",
    "from sklearn.neighbors import KNeighborsClassifier\n",
    "from sklearn.svm import SVC\n",
    "from sklearn.tree import DecisionTreeClassifier\n",
    "from sklearn.ensemble import RandomForestClassifier\n",
    "\n",
    "from sklearn.metrics import accuracy_score, precision_score, recall_score, confusion_matrix, precision_recall_curve\n",
    "from sklearn.metrics import roc_auc_score, log_loss, f1_score, roc_curve, auc\n",
    "from sklearn.model_selection import train_test_split, KFold, StratifiedKFold\n",
    "\n",
    "warnings.filterwarnings('ignore')\n",
    "pd.set_option('display.max_columns', 100)"
   ]
  },
  {
   "cell_type": "markdown",
   "metadata": {},
   "source": [
    "## 2. Import Data"
   ]
  },
  {
   "cell_type": "code",
   "execution_count": 2,
   "metadata": {},
   "outputs": [],
   "source": [
    "df = pd.read_csv(r'data_modeling.csv')"
   ]
  },
  {
   "cell_type": "code",
   "execution_count": 3,
   "metadata": {},
   "outputs": [
    {
     "data": {
      "text/plain": [
       "(124494, 21)"
      ]
     },
     "execution_count": 3,
     "metadata": {},
     "output_type": "execute_result"
    }
   ],
   "source": [
    "df.shape"
   ]
  },
  {
   "cell_type": "code",
   "execution_count": 4,
   "metadata": {},
   "outputs": [],
   "source": [
    "df['event'] = df['event'].replace({\n",
    "    0 : 1,\n",
    "    1 : 0\n",
    "})"
   ]
  },
  {
   "cell_type": "code",
   "execution_count": 5,
   "metadata": {},
   "outputs": [
    {
     "data": {
      "text/plain": [
       "1    124388\n",
       "0       106\n",
       "Name: event, dtype: int64"
      ]
     },
     "execution_count": 5,
     "metadata": {},
     "output_type": "execute_result"
    }
   ],
   "source": [
    "df['event'].value_counts()"
   ]
  },
  {
   "cell_type": "code",
   "execution_count": 6,
   "metadata": {},
   "outputs": [
    {
     "data": {
      "text/html": [
       "<div>\n",
       "<style scoped>\n",
       "    .dataframe tbody tr th:only-of-type {\n",
       "        vertical-align: middle;\n",
       "    }\n",
       "\n",
       "    .dataframe tbody tr th {\n",
       "        vertical-align: top;\n",
       "    }\n",
       "\n",
       "    .dataframe thead th {\n",
       "        text-align: right;\n",
       "    }\n",
       "</style>\n",
       "<table border=\"1\" class=\"dataframe\">\n",
       "  <thead>\n",
       "    <tr style=\"text-align: right;\">\n",
       "      <th></th>\n",
       "      <th>date</th>\n",
       "      <th>machine</th>\n",
       "      <th>event</th>\n",
       "      <th>feature1</th>\n",
       "      <th>feature2</th>\n",
       "      <th>feature3</th>\n",
       "      <th>feature4</th>\n",
       "      <th>feature5</th>\n",
       "      <th>feature6</th>\n",
       "      <th>feature7</th>\n",
       "      <th>feature8</th>\n",
       "      <th>feature9</th>\n",
       "      <th>hari</th>\n",
       "      <th>bulan</th>\n",
       "      <th>dayofyear</th>\n",
       "      <th>weekofyear</th>\n",
       "      <th>dayofweek</th>\n",
       "      <th>quarter</th>\n",
       "      <th>is_month_start</th>\n",
       "      <th>is_month_end</th>\n",
       "      <th>is_weekend</th>\n",
       "    </tr>\n",
       "  </thead>\n",
       "  <tbody>\n",
       "    <tr>\n",
       "      <th>0</th>\n",
       "      <td>2015-01-01</td>\n",
       "      <td>S1F01085</td>\n",
       "      <td>1</td>\n",
       "      <td>0</td>\n",
       "      <td>7</td>\n",
       "      <td>407438</td>\n",
       "      <td>215630672</td>\n",
       "      <td>6</td>\n",
       "      <td>0</td>\n",
       "      <td>52</td>\n",
       "      <td>56</td>\n",
       "      <td>0</td>\n",
       "      <td>1</td>\n",
       "      <td>1</td>\n",
       "      <td>1</td>\n",
       "      <td>1</td>\n",
       "      <td>3</td>\n",
       "      <td>1</td>\n",
       "      <td>1</td>\n",
       "      <td>0</td>\n",
       "      <td>0</td>\n",
       "    </tr>\n",
       "    <tr>\n",
       "      <th>1</th>\n",
       "      <td>2015-02-01</td>\n",
       "      <td>S1F01085</td>\n",
       "      <td>1</td>\n",
       "      <td>0</td>\n",
       "      <td>7</td>\n",
       "      <td>407438</td>\n",
       "      <td>1650864</td>\n",
       "      <td>6</td>\n",
       "      <td>0</td>\n",
       "      <td>52</td>\n",
       "      <td>56</td>\n",
       "      <td>0</td>\n",
       "      <td>1</td>\n",
       "      <td>2</td>\n",
       "      <td>32</td>\n",
       "      <td>5</td>\n",
       "      <td>6</td>\n",
       "      <td>1</td>\n",
       "      <td>1</td>\n",
       "      <td>0</td>\n",
       "      <td>1</td>\n",
       "    </tr>\n",
       "  </tbody>\n",
       "</table>\n",
       "</div>"
      ],
      "text/plain": [
       "         date   machine  event  feature1  feature2  feature3   feature4  \\\n",
       "0  2015-01-01  S1F01085      1         0         7    407438  215630672   \n",
       "1  2015-02-01  S1F01085      1         0         7    407438    1650864   \n",
       "\n",
       "   feature5  feature6  feature7  feature8  feature9  hari  bulan  dayofyear  \\\n",
       "0         6         0        52        56         0     1      1          1   \n",
       "1         6         0        52        56         0     1      2         32   \n",
       "\n",
       "   weekofyear  dayofweek  quarter  is_month_start  is_month_end  is_weekend  \n",
       "0           1          3        1               1             0           0  \n",
       "1           5          6        1               1             0           1  "
      ]
     },
     "execution_count": 6,
     "metadata": {},
     "output_type": "execute_result"
    }
   ],
   "source": [
    "df.head(2)"
   ]
  },
  {
   "cell_type": "markdown",
   "metadata": {},
   "source": [
    "## 3.0 Modeling"
   ]
  },
  {
   "cell_type": "markdown",
   "metadata": {},
   "source": [
    "### 3.1 Baseline Modeling"
   ]
  },
  {
   "cell_type": "code",
   "execution_count": 7,
   "metadata": {
    "ExecuteTime": {
     "end_time": "2021-07-27T14:45:35.769869Z",
     "start_time": "2021-07-27T14:45:35.746932Z"
    }
   },
   "outputs": [],
   "source": [
    "x = df.drop(columns=['date', 'machine', 'event'])\n",
    "y = df[['event']]"
   ]
  },
  {
   "cell_type": "code",
   "execution_count": 8,
   "metadata": {
    "ExecuteTime": {
     "end_time": "2021-07-27T14:45:35.953376Z",
     "start_time": "2021-07-27T14:45:35.771863Z"
    }
   },
   "outputs": [],
   "source": [
    "x_train, x_test, y_train, y_test = train_test_split(x, y, test_size=0.25, stratify=y, random_state=42)"
   ]
  },
  {
   "cell_type": "code",
   "execution_count": 9,
   "metadata": {},
   "outputs": [
    {
     "name": "stdout",
     "output_type": "stream",
     "text": [
      "test set roc_auc_score is 0.53719\n"
     ]
    }
   ],
   "source": [
    "lib.baseline_model(LogisticRegression(), x_train, y_train, x_test, y_test)"
   ]
  },
  {
   "cell_type": "code",
   "execution_count": 10,
   "metadata": {},
   "outputs": [
    {
     "name": "stdout",
     "output_type": "stream",
     "text": [
      "test set roc_auc_score is 0.51635\n"
     ]
    }
   ],
   "source": [
    "lib.baseline_model(KNeighborsClassifier(), x_train, y_train, x_test, y_test)"
   ]
  },
  {
   "cell_type": "code",
   "execution_count": 11,
   "metadata": {},
   "outputs": [
    {
     "name": "stdout",
     "output_type": "stream",
     "text": [
      "test set roc_auc_score is 0.74456\n"
     ]
    }
   ],
   "source": [
    "lib.baseline_model(LGBMClassifier(max_depth=4), x_train, y_train, x_test, y_test)"
   ]
  },
  {
   "cell_type": "markdown",
   "metadata": {},
   "source": [
    "- Summary Modelling:\n",
    "    - AUC Logreg : 0.53\n",
    "    - AUC KNN : 0.51\n",
    "    - AUC LGBM : 0.74\n",
    "- Paling bagus menggunakan LGBM maka di step selanjutnya saya coba menggunakan 10 Fold CV untuk LGBM"
   ]
  },
  {
   "cell_type": "markdown",
   "metadata": {},
   "source": [
    "### 3.2 Modelling LGBM with cross validation (Best Model)"
   ]
  },
  {
   "cell_type": "markdown",
   "metadata": {},
   "source": [
    "- dengan menggunakan teknik KFold CV"
   ]
  },
  {
   "cell_type": "code",
   "execution_count": 12,
   "metadata": {},
   "outputs": [
    {
     "name": "stdout",
     "output_type": "stream",
     "text": [
      "Starting LightGBM. Data shape: (124494, 19)\n",
      "Training until validation scores don't improve for 200 rounds\n",
      "[200]\tvalid_0's auc: 0.681734\n",
      "Early stopping, best iteration is:\n",
      "[4]\tvalid_0's auc: 0.916735\n",
      "Fold  1 AUC : 0.916735\n",
      "Training until validation scores don't improve for 200 rounds\n",
      "[200]\tvalid_0's auc: 0.5708\n",
      "Early stopping, best iteration is:\n",
      "[1]\tvalid_0's auc: 0.843045\n",
      "Fold  2 AUC : 0.843045\n",
      "Training until validation scores don't improve for 200 rounds\n",
      "[200]\tvalid_0's auc: 0.541786\n",
      "Early stopping, best iteration is:\n",
      "[5]\tvalid_0's auc: 0.948593\n",
      "Fold  3 AUC : 0.948593\n",
      "Training until validation scores don't improve for 200 rounds\n",
      "[200]\tvalid_0's auc: 0.758882\n",
      "Early stopping, best iteration is:\n",
      "[1]\tvalid_0's auc: 0.891302\n",
      "Fold  4 AUC : 0.891302\n",
      "Training until validation scores don't improve for 200 rounds\n",
      "[200]\tvalid_0's auc: 0.86839\n",
      "[400]\tvalid_0's auc: 0.881936\n",
      "[600]\tvalid_0's auc: 0.878206\n",
      "Early stopping, best iteration is:\n",
      "[476]\tvalid_0's auc: 0.883495\n",
      "Fold  5 AUC : 0.863502\n",
      "Training until validation scores don't improve for 200 rounds\n",
      "[200]\tvalid_0's auc: 0.800297\n",
      "Early stopping, best iteration is:\n",
      "[14]\tvalid_0's auc: 0.87837\n",
      "Fold  6 AUC : 0.878370\n",
      "Training until validation scores don't improve for 200 rounds\n",
      "[200]\tvalid_0's auc: 0.70328\n",
      "Early stopping, best iteration is:\n",
      "[50]\tvalid_0's auc: 0.812268\n",
      "Fold  7 AUC : 0.827675\n",
      "Training until validation scores don't improve for 200 rounds\n",
      "[200]\tvalid_0's auc: 0.478101\n",
      "Early stopping, best iteration is:\n",
      "[1]\tvalid_0's auc: 0.814495\n",
      "Fold  8 AUC : 0.814495\n",
      "Training until validation scores don't improve for 200 rounds\n",
      "[200]\tvalid_0's auc: 0.559714\n",
      "Early stopping, best iteration is:\n",
      "[3]\tvalid_0's auc: 0.681241\n",
      "Fold  9 AUC : 0.681241\n",
      "Training until validation scores don't improve for 200 rounds\n",
      "[200]\tvalid_0's auc: 0.661711\n",
      "Early stopping, best iteration is:\n",
      "[4]\tvalid_0's auc: 0.69379\n",
      "Fold 10 AUC : 0.690282\n",
      "Full AUC score 0.769521\n",
      "Average AUC score : 0.835524 +- 0.084005\n"
     ]
    },
    {
     "data": {
      "image/png": "[encoded data removed]",
      "text/plain": [
       "<Figure size 576x720 with 1 Axes>"
      ]
     },
     "metadata": {
      "needs_background": "light"
     },
     "output_type": "display_data"
    }
   ],
   "source": [
    "feature_importance_df, hasil_prediksi = lib.kfold_lightgbm(df=df, num_folds=10, stratified=True, categorical=[])"
   ]
  },
  {
   "cell_type": "markdown",
   "metadata": {},
   "source": [
    "- dengan menggunakan teknik 10 Fold CV didapatkan hasil AUC yang lebih baik yg semula dari 0.74 (baseline) menjadi 0.76 (Full AUC Score) dengan rata-rata AUC 0.83 +- 0.08\n",
    "- hasil feature importance menunjukan bahwa ternyata feature4, dan feature3 dan dayofyear merupakan feature yang paling penting dalam menentukan terjadinya event.\n",
    "***"
   ]
  },
  {
   "cell_type": "code",
   "execution_count": 13,
   "metadata": {},
   "outputs": [
    {
     "data": {
      "text/plain": [
       "array([[   79,    27],\n",
       "       [40753, 83635]], dtype=int64)"
      ]
     },
     "execution_count": 13,
     "metadata": {},
     "output_type": "execute_result"
    }
   ],
   "source": [
    "hasil_prediksi_2 = np.where(hasil_prediksi <= 0.2, 0, 1)\n",
    "hasil_prediksi_2 = pd.DataFrame(hasil_prediksi_2, columns=['prediksi'])\n",
    "hasil_prediksi_2['aktual'] = y\n",
    "\n",
    "#predicted, actual\n",
    "tn, fp, fn, tp = confusion_matrix(hasil_prediksi_2['aktual'], hasil_prediksi_2['prediksi']).ravel()\n",
    "confusion_matrix(hasil_prediksi_2['aktual'], hasil_prediksi_2['prediksi'])"
   ]
  },
  {
   "cell_type": "code",
   "execution_count": 14,
   "metadata": {},
   "outputs": [
    {
     "data": {
      "image/png": "[encoded data removed]",
      "text/plain": [
       "<Figure size 576x288 with 1 Axes>"
      ]
     },
     "metadata": {
      "needs_background": "light"
     },
     "output_type": "display_data"
    }
   ],
   "source": [
    "lib.auc_curve(y, hasil_prediksi);"
   ]
  },
  {
   "cell_type": "code",
   "execution_count": 15,
   "metadata": {},
   "outputs": [
    {
     "data": {
      "image/png": "[encoded data removed]",
      "text/plain": [
       "<Figure size 432x288 with 2 Axes>"
      ]
     },
     "metadata": {
      "needs_background": "light"
     },
     "output_type": "display_data"
    }
   ],
   "source": [
    "#aktual, predicted\n",
    "lib.confusion_matrix_plot(y, hasil_prediksi_2['prediksi'])"
   ]
  },
  {
   "cell_type": "code",
   "execution_count": 16,
   "metadata": {},
   "outputs": [
    {
     "data": {
      "text/plain": [
       "(79, 27, 40753, 83635)"
      ]
     },
     "execution_count": 16,
     "metadata": {},
     "output_type": "execute_result"
    }
   ],
   "source": [
    "tn, fp, fn, tp"
   ]
  },
  {
   "cell_type": "code",
   "execution_count": 21,
   "metadata": {},
   "outputs": [
    {
     "data": {
      "text/plain": [
       "(0.9996772728359351, 0.6723719329838891, 0.672434012884155)"
      ]
     },
     "execution_count": 21,
     "metadata": {},
     "output_type": "execute_result"
    }
   ],
   "source": [
    "tp / (tp+fp), tp / (tp+fn), (tp+tn) / 124494"
   ]
  },
  {
   "cell_type": "code",
   "execution_count": 17,
   "metadata": {},
   "outputs": [
    {
     "data": {
      "text/plain": [
       "(0.9996772728359351, 0.6723719329838891)"
      ]
     },
     "execution_count": 17,
     "metadata": {},
     "output_type": "execute_result"
    }
   ],
   "source": [
    "precision_score(hasil_prediksi_2['aktual'], hasil_prediksi_2['prediksi']), recall_score(hasil_prediksi_2['aktual'], hasil_prediksi_2['prediksi'])"
   ]
  },
  {
   "cell_type": "markdown",
   "metadata": {},
   "source": [
    "-- End of Script"
   ]
  }
 ],
 "metadata": {
  "kernelspec": {
   "display_name": "Python 3",
   "language": "python",
   "name": "python3"
  },
  "language_info": {
   "codemirror_mode": {
    "name": "ipython",
    "version": 3
   },
   "file_extension": ".py",
   "mimetype": "text/x-python",
   "name": "python",
   "nbconvert_exporter": "python",
   "pygments_lexer": "ipython3",
   "version": "3.6.10"
  }
 },
 "nbformat": 4,
 "nbformat_minor": 4
}
